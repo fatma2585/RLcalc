{
 "cells": [
  {
   "cell_type": "code",
   "execution_count": 11,
   "metadata": {},
   "outputs": [],
   "source": [
    "import numpy as np\n",
    "import statistics\n",
    "import math\n",
    "import matplotlib.pyplot as plt\n",
    "import matplotlib.ticker as plticker\n",
    "import pandas as pd\n",
    "from astropy.io import fits\n",
    "from astropy.table import Table\n",
    "from astropy import constants as const\n",
    "from astropy.cosmology import WMAP9 as cosmo \n",
    "from astropy import units as u "
   ]
  },
  {
   "cell_type": "markdown",
   "metadata": {},
   "source": [
    "### Radio Loudness and radio luminosity Functions"
   ]
  },
  {
   "cell_type": "code",
   "execution_count": 12,
   "metadata": {},
   "outputs": [],
   "source": [
    "def Radio_loudness(Z,R20CM,L2500,R_slope = -0.5):      \n",
    "    DLpc= cosmo.luminosity_distance(Z) #Distance Luminosity from redshift \n",
    "    DL= DLpc*3.086e+24\n",
    "    #convert from luminosity to flux in (erg/sec.cm2.Hz) * (29979245800 / 6**2)\n",
    "    L2500R=10**(L2500)\n",
    "    f2500 = L2500R / (4 * np.pi * (DL**2) * (2.9979245800e+18/2500))\n",
    "    F2500= f2500 * 1e+26\n",
    "    #radio flux in mJy\n",
    "    Rest=R20CM/np.power(1+Z,R_slope)    # The radio slope \n",
    "    R6CM = Rest*np.power(5/1.4,R_slope)  # the conversition from 5GHz to 1.4GHz)\n",
    "    RL=np.log10(R6CM/F2500)\n",
    "    return (RL)\n",
    "\n",
    "def R_Lum(Z,R20CM,R_slope=-0.5):\n",
    "    from astropy.cosmology import WMAP9 as cosmo       \n",
    "    DLOX= cosmo.luminosity_distance(Z)                 \n",
    "    DL= DLOX*3.086e+24\n",
    "    Rest=R20CM/(1+ZL)**R_slope                                #The radio slope \n",
    "    R20 = Rest* 1e-26                                     #The conversition from 1.4GHz unit conversition to erg.sec-1.cm-2.HZ-1\n",
    "    R6CM= R20*np.power(5/1.4,R_slope)*(2.9979245800e+8/0.06) # convert from 1.4GHz to 5GHz, \n",
    "                                                          #then the converstion to have unit erg.sec-1.cm-2\n",
    "    LR = np.array(np.log10(4 *np.pi * (DL**2) * R6CM))\n",
    "    return LR \n"
   ]
  },
  {
   "cell_type": "code",
   "execution_count": 14,
   "metadata": {},
   "outputs": [],
   "source": [
    "RLoud=Radio_loudness(Z,R20CM,L2500)\n",
    "Rlum=R_Lum(Z,R20CM)"
   ]
  }
 ],
 "metadata": {
  "kernelspec": {
   "display_name": "Python 3 (ipykernel)",
   "language": "python",
   "name": "python3"
  },
  "language_info": {
   "codemirror_mode": {
    "name": "ipython",
    "version": 3
   },
   "file_extension": ".py",
   "mimetype": "text/x-python",
   "name": "python",
   "nbconvert_exporter": "python",
   "pygments_lexer": "ipython3",
   "version": "3.9.12"
  }
 },
 "nbformat": 4,
 "nbformat_minor": 4
}
